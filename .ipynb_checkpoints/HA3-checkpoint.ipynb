{
 "cells": [
  {
   "cell_type": "markdown",
   "id": "3d4576ff-b68e-44a8-97df-4151285c05b4",
   "metadata": {},
   "source": [
    "1. Handling Missing Data Questions\n",
    "\n",
    "How do you identify and handle missing values:\n",
    "We can use(      for identification       )\n",
    "df.isnull() function to identify missing values in DataFrame, or\n",
    "df.isnull().sum() to sum up number of missing values in respective columns. Also, we can use\n",
    "round.((df.isnull().sum() / df.shape[0])*100, 2) to find out percentage of missing values in their respective columns"
   ]
  },
  {
   "cell_type": "code",
   "execution_count": null,
   "id": "361c0b55-8049-4b40-90c9-3edccfd3f402",
   "metadata": {},
   "outputs": [],
   "source": [
    "import pandas as samar\n",
    "fact=samar.read_csv('factbook.csv', header=0, sep=';', skiprows=[1])\n",
    "print(fact.head(10).isnull())"
   ]
  },
  {
   "cell_type": "markdown",
   "id": "6f2f7cee-1369-48ae-8e7e-6ddffa832e9c",
   "metadata": {},
   "source": [
    "as for handling, we can use:\n",
    "df.drop(columns='Cabin') to remove the column depending the situation or\n",
    "df.dropna(subset=[Embarked], axis=0, inplace=True) to remove the row\n",
    "\n",
    "df.fillna(df.Age.mean()) can be used to impute(fill places of missing values with finding mean of whole column)"
   ]
  },
  {
   "cell_type": "code",
   "execution_count": null,
   "id": "7089096b-5fcb-418e-ae6a-6a5e3669a37c",
   "metadata": {},
   "outputs": [],
   "source": [
    "import pandas as samar\n",
    "fact=samar.read_csv('factbook.csv', header=0, sep=';', skiprows=[1])\n",
    "print(fact.head(10).)"
   ]
  },
  {
   "cell_type": "code",
   "execution_count": null,
   "id": "cc5f91c5-0043-4de4-b849-c608c1b2aece",
   "metadata": {},
   "outputs": [],
   "source": [
    "import pandas as po\n",
    "customer = po.read_csv('factbook.csv', header=0, sep=\";\", skiprows=[0])\n",
    "print(customer.head(10))\n"
   ]
  }
 ],
 "metadata": {
  "kernelspec": {
   "display_name": "Python [conda env:base] *",
   "language": "python",
   "name": "conda-base-py"
  },
  "language_info": {
   "codemirror_mode": {
    "name": "ipython",
    "version": 3
   },
   "file_extension": ".py",
   "mimetype": "text/x-python",
   "name": "python",
   "nbconvert_exporter": "python",
   "pygments_lexer": "ipython3",
   "version": "3.12.7"
  }
 },
 "nbformat": 4,
 "nbformat_minor": 5
}
